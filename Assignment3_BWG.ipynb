{
  "cells": [
    {
      "cell_type": "markdown",
      "metadata": {
        "id": "kggsZpmOtdej"
      },
      "source": [
        "## Importing the Libraries"
      ]
    },
    {
      "cell_type": "code",
      "execution_count": null,
      "metadata": {
        "id": "7UzaHJBsrZ3w"
      },
      "outputs": [],
      "source": [
        "import numpy as np\n",
        "import pandas as pd\n",
        "import matplotlib.pyplot as plt"
      ]
    },
    {
      "cell_type": "code",
      "execution_count": null,
      "metadata": {
        "id": "y-8E5T3-tA1b"
      },
      "outputs": [],
      "source": [
        "dataset = pd.read_csv('/content/drive/MyDrive/Colab Notebooks/customer_data.csv')"
      ]
    },
    {
      "cell_type": "markdown",
      "metadata": {
        "id": "9oT1lk0BtgaQ"
      },
      "source": [
        "### Checking for null values"
      ]
    },
    {
      "cell_type": "code",
      "execution_count": null,
      "metadata": {
        "colab": {
          "base_uri": "https://localhost:8080/"
        },
        "id": "FGFEGS1GtHTY",
        "outputId": "eba08af7-a1e8-44e4-ebe9-97da4feed15c"
      },
      "outputs": [
        {
          "name": "stdout",
          "output_type": "stream",
          "text": [
            "<class 'pandas.core.frame.DataFrame'>\n",
            "RangeIndex: 1125 entries, 0 to 1124\n",
            "Data columns (total 13 columns):\n",
            " #   Column  Non-Null Count  Dtype  \n",
            "---  ------  --------------  -----  \n",
            " 0   label   1125 non-null   int64  \n",
            " 1   id      1125 non-null   int64  \n",
            " 2   fea_1   1125 non-null   int64  \n",
            " 3   fea_2   976 non-null    float64\n",
            " 4   fea_3   1125 non-null   int64  \n",
            " 5   fea_4   1125 non-null   float64\n",
            " 6   fea_5   1125 non-null   int64  \n",
            " 7   fea_6   1125 non-null   int64  \n",
            " 8   fea_7   1125 non-null   int64  \n",
            " 9   fea_8   1125 non-null   int64  \n",
            " 10  fea_9   1125 non-null   int64  \n",
            " 11  fea_10  1125 non-null   int64  \n",
            " 12  fea_11  1125 non-null   float64\n",
            "dtypes: float64(3), int64(10)\n",
            "memory usage: 114.4 KB\n"
          ]
        }
      ],
      "source": [
        "dataset.info()"
      ]
    },
    {
      "cell_type": "code",
      "execution_count": null,
      "metadata": {
        "colab": {
          "base_uri": "https://localhost:8080/",
          "height": 204
        },
        "id": "hD49uhARtIkR",
        "outputId": "2be047cd-96fe-4a7f-b36d-609291d46b92"
      },
      "outputs": [
        {
          "data": {
            "text/html": [
              "\n",
              "  <div id=\"df-d1f190fe-c58a-4311-88fa-69ffbd63f3b8\">\n",
              "    <div class=\"colab-df-container\">\n",
              "      <div>\n",
              "<style scoped>\n",
              "    .dataframe tbody tr th:only-of-type {\n",
              "        vertical-align: middle;\n",
              "    }\n",
              "\n",
              "    .dataframe tbody tr th {\n",
              "        vertical-align: top;\n",
              "    }\n",
              "\n",
              "    .dataframe thead th {\n",
              "        text-align: right;\n",
              "    }\n",
              "</style>\n",
              "<table border=\"1\" class=\"dataframe\">\n",
              "  <thead>\n",
              "    <tr style=\"text-align: right;\">\n",
              "      <th></th>\n",
              "      <th>label</th>\n",
              "      <th>id</th>\n",
              "      <th>fea_1</th>\n",
              "      <th>fea_2</th>\n",
              "      <th>fea_3</th>\n",
              "      <th>fea_4</th>\n",
              "      <th>fea_5</th>\n",
              "      <th>fea_6</th>\n",
              "      <th>fea_7</th>\n",
              "      <th>fea_8</th>\n",
              "      <th>fea_9</th>\n",
              "      <th>fea_10</th>\n",
              "      <th>fea_11</th>\n",
              "    </tr>\n",
              "  </thead>\n",
              "  <tbody>\n",
              "    <tr>\n",
              "      <th>0</th>\n",
              "      <td>1</td>\n",
              "      <td>54982665</td>\n",
              "      <td>5</td>\n",
              "      <td>1245.5</td>\n",
              "      <td>3</td>\n",
              "      <td>77000.0</td>\n",
              "      <td>2</td>\n",
              "      <td>15</td>\n",
              "      <td>5</td>\n",
              "      <td>109</td>\n",
              "      <td>5</td>\n",
              "      <td>151300</td>\n",
              "      <td>244.948974</td>\n",
              "    </tr>\n",
              "    <tr>\n",
              "      <th>1</th>\n",
              "      <td>0</td>\n",
              "      <td>59004779</td>\n",
              "      <td>4</td>\n",
              "      <td>1277.0</td>\n",
              "      <td>1</td>\n",
              "      <td>113000.0</td>\n",
              "      <td>2</td>\n",
              "      <td>8</td>\n",
              "      <td>-1</td>\n",
              "      <td>100</td>\n",
              "      <td>3</td>\n",
              "      <td>341759</td>\n",
              "      <td>207.173840</td>\n",
              "    </tr>\n",
              "    <tr>\n",
              "      <th>2</th>\n",
              "      <td>0</td>\n",
              "      <td>58990862</td>\n",
              "      <td>7</td>\n",
              "      <td>1298.0</td>\n",
              "      <td>1</td>\n",
              "      <td>110000.0</td>\n",
              "      <td>2</td>\n",
              "      <td>11</td>\n",
              "      <td>-1</td>\n",
              "      <td>101</td>\n",
              "      <td>5</td>\n",
              "      <td>72001</td>\n",
              "      <td>1.000000</td>\n",
              "    </tr>\n",
              "    <tr>\n",
              "      <th>3</th>\n",
              "      <td>1</td>\n",
              "      <td>58995168</td>\n",
              "      <td>7</td>\n",
              "      <td>1335.5</td>\n",
              "      <td>1</td>\n",
              "      <td>151000.0</td>\n",
              "      <td>2</td>\n",
              "      <td>11</td>\n",
              "      <td>5</td>\n",
              "      <td>110</td>\n",
              "      <td>3</td>\n",
              "      <td>60084</td>\n",
              "      <td>1.000000</td>\n",
              "    </tr>\n",
              "    <tr>\n",
              "      <th>4</th>\n",
              "      <td>0</td>\n",
              "      <td>54987320</td>\n",
              "      <td>7</td>\n",
              "      <td>NaN</td>\n",
              "      <td>2</td>\n",
              "      <td>59000.0</td>\n",
              "      <td>2</td>\n",
              "      <td>11</td>\n",
              "      <td>5</td>\n",
              "      <td>108</td>\n",
              "      <td>4</td>\n",
              "      <td>450081</td>\n",
              "      <td>197.403141</td>\n",
              "    </tr>\n",
              "  </tbody>\n",
              "</table>\n",
              "</div>\n",
              "      <button class=\"colab-df-convert\" onclick=\"convertToInteractive('df-d1f190fe-c58a-4311-88fa-69ffbd63f3b8')\"\n",
              "              title=\"Convert this dataframe to an interactive table.\"\n",
              "              style=\"display:none;\">\n",
              "        \n",
              "  <svg xmlns=\"http://www.w3.org/2000/svg\" height=\"24px\"viewBox=\"0 0 24 24\"\n",
              "       width=\"24px\">\n",
              "    <path d=\"M0 0h24v24H0V0z\" fill=\"none\"/>\n",
              "    <path d=\"M18.56 5.44l.94 2.06.94-2.06 2.06-.94-2.06-.94-.94-2.06-.94 2.06-2.06.94zm-11 1L8.5 8.5l.94-2.06 2.06-.94-2.06-.94L8.5 2.5l-.94 2.06-2.06.94zm10 10l.94 2.06.94-2.06 2.06-.94-2.06-.94-.94-2.06-.94 2.06-2.06.94z\"/><path d=\"M17.41 7.96l-1.37-1.37c-.4-.4-.92-.59-1.43-.59-.52 0-1.04.2-1.43.59L10.3 9.45l-7.72 7.72c-.78.78-.78 2.05 0 2.83L4 21.41c.39.39.9.59 1.41.59.51 0 1.02-.2 1.41-.59l7.78-7.78 2.81-2.81c.8-.78.8-2.07 0-2.86zM5.41 20L4 18.59l7.72-7.72 1.47 1.35L5.41 20z\"/>\n",
              "  </svg>\n",
              "      </button>\n",
              "      \n",
              "  <style>\n",
              "    .colab-df-container {\n",
              "      display:flex;\n",
              "      flex-wrap:wrap;\n",
              "      gap: 12px;\n",
              "    }\n",
              "\n",
              "    .colab-df-convert {\n",
              "      background-color: #E8F0FE;\n",
              "      border: none;\n",
              "      border-radius: 50%;\n",
              "      cursor: pointer;\n",
              "      display: none;\n",
              "      fill: #1967D2;\n",
              "      height: 32px;\n",
              "      padding: 0 0 0 0;\n",
              "      width: 32px;\n",
              "    }\n",
              "\n",
              "    .colab-df-convert:hover {\n",
              "      background-color: #E2EBFA;\n",
              "      box-shadow: 0px 1px 2px rgba(60, 64, 67, 0.3), 0px 1px 3px 1px rgba(60, 64, 67, 0.15);\n",
              "      fill: #174EA6;\n",
              "    }\n",
              "\n",
              "    [theme=dark] .colab-df-convert {\n",
              "      background-color: #3B4455;\n",
              "      fill: #D2E3FC;\n",
              "    }\n",
              "\n",
              "    [theme=dark] .colab-df-convert:hover {\n",
              "      background-color: #434B5C;\n",
              "      box-shadow: 0px 1px 3px 1px rgba(0, 0, 0, 0.15);\n",
              "      filter: drop-shadow(0px 1px 2px rgba(0, 0, 0, 0.3));\n",
              "      fill: #FFFFFF;\n",
              "    }\n",
              "  </style>\n",
              "\n",
              "      <script>\n",
              "        const buttonEl =\n",
              "          document.querySelector('#df-d1f190fe-c58a-4311-88fa-69ffbd63f3b8 button.colab-df-convert');\n",
              "        buttonEl.style.display =\n",
              "          google.colab.kernel.accessAllowed ? 'block' : 'none';\n",
              "\n",
              "        async function convertToInteractive(key) {\n",
              "          const element = document.querySelector('#df-d1f190fe-c58a-4311-88fa-69ffbd63f3b8');\n",
              "          const dataTable =\n",
              "            await google.colab.kernel.invokeFunction('convertToInteractive',\n",
              "                                                     [key], {});\n",
              "          if (!dataTable) return;\n",
              "\n",
              "          const docLinkHtml = 'Like what you see? Visit the ' +\n",
              "            '<a target=\"_blank\" href=https://colab.research.google.com/notebooks/data_table.ipynb>data table notebook</a>'\n",
              "            + ' to learn more about interactive tables.';\n",
              "          element.innerHTML = '';\n",
              "          dataTable['output_type'] = 'display_data';\n",
              "          await google.colab.output.renderOutput(dataTable, element);\n",
              "          const docLink = document.createElement('div');\n",
              "          docLink.innerHTML = docLinkHtml;\n",
              "          element.appendChild(docLink);\n",
              "        }\n",
              "      </script>\n",
              "    </div>\n",
              "  </div>\n",
              "  "
            ],
            "text/plain": [
              "   label        id  fea_1   fea_2  fea_3     fea_4  fea_5  fea_6  fea_7  \\\n",
              "0      1  54982665      5  1245.5      3   77000.0      2     15      5   \n",
              "1      0  59004779      4  1277.0      1  113000.0      2      8     -1   \n",
              "2      0  58990862      7  1298.0      1  110000.0      2     11     -1   \n",
              "3      1  58995168      7  1335.5      1  151000.0      2     11      5   \n",
              "4      0  54987320      7     NaN      2   59000.0      2     11      5   \n",
              "\n",
              "   fea_8  fea_9  fea_10      fea_11  \n",
              "0    109      5  151300  244.948974  \n",
              "1    100      3  341759  207.173840  \n",
              "2    101      5   72001    1.000000  \n",
              "3    110      3   60084    1.000000  \n",
              "4    108      4  450081  197.403141  "
            ]
          },
          "execution_count": 4,
          "metadata": {},
          "output_type": "execute_result"
        }
      ],
      "source": [
        "dataset.head()"
      ]
    },
    {
      "cell_type": "markdown",
      "metadata": {
        "id": "JjEb-Qhitlgh"
      },
      "source": [
        "### We have 1 column that contains null entries, so we will be replacing the null entries with mean\n",
        "\n",
        "### We will be using skLearn SimpleImputer"
      ]
    },
    {
      "cell_type": "code",
      "execution_count": null,
      "metadata": {
        "id": "G1iendvKtMcf"
      },
      "outputs": [],
      "source": [
        "from sklearn.impute import SimpleImputer\n",
        "imputer = SimpleImputer(strategy = 'mean')"
      ]
    },
    {
      "cell_type": "code",
      "execution_count": null,
      "metadata": {
        "id": "Np-pGs5TxRgX"
      },
      "outputs": [],
      "source": [
        "dataset['fea_2'] = imputer.fit_transform(dataset[['fea_2']])\n"
      ]
    },
    {
      "cell_type": "markdown",
      "metadata": {
        "id": "HNedyGYMyAlK"
      },
      "source": [
        "## Stratified K-fold Cross Validation with SVC classifier"
      ]
    },
    {
      "cell_type": "code",
      "execution_count": null,
      "metadata": {
        "id": "xI2WaAqpyru9"
      },
      "outputs": [],
      "source": [
        "from sklearn.svm import SVC\n",
        "SVC_model=SVC()"
      ]
    },
    {
      "cell_type": "code",
      "execution_count": null,
      "metadata": {
        "id": "1RU4XWGJyIk4"
      },
      "outputs": [],
      "source": [
        "x=dataset.drop('label', axis=1)\n",
        "y=dataset['label']"
      ]
    },
    {
      "cell_type": "code",
      "execution_count": null,
      "metadata": {
        "id": "KM1wrlTsycbe"
      },
      "outputs": [],
      "source": [
        "from sklearn.model_selection import KFold, cross_val_score\n",
        "SVC_model=SVC(kernel='linear', max_iter=100, random_state=42)\n",
        "KFoldVal=KFold(10)"
      ]
    },
    {
      "cell_type": "code",
      "execution_count": null,
      "metadata": {
        "colab": {
          "base_uri": "https://localhost:8080/"
        },
        "id": "GEM9NOk5znLW",
        "outputId": "4d5b0ac1-a741-4801-c868-0751932a32fd"
      },
      "outputs": [
        {
          "name": "stdout",
          "output_type": "stream",
          "text": [
            "[0.32743363 0.69911504 0.63716814 0.61946903 0.28318584 0.40178571\n",
            " 0.60714286 0.66071429 0.38392857 0.61607143]\n"
          ]
        },
        {
          "name": "stderr",
          "output_type": "stream",
          "text": [
            "/usr/local/lib/python3.7/dist-packages/sklearn/svm/_base.py:289: ConvergenceWarning: Solver terminated early (max_iter=100).  Consider pre-processing your data with StandardScaler or MinMaxScaler.\n",
            "  ConvergenceWarning,\n",
            "/usr/local/lib/python3.7/dist-packages/sklearn/svm/_base.py:289: ConvergenceWarning: Solver terminated early (max_iter=100).  Consider pre-processing your data with StandardScaler or MinMaxScaler.\n",
            "  ConvergenceWarning,\n",
            "/usr/local/lib/python3.7/dist-packages/sklearn/svm/_base.py:289: ConvergenceWarning: Solver terminated early (max_iter=100).  Consider pre-processing your data with StandardScaler or MinMaxScaler.\n",
            "  ConvergenceWarning,\n",
            "/usr/local/lib/python3.7/dist-packages/sklearn/svm/_base.py:289: ConvergenceWarning: Solver terminated early (max_iter=100).  Consider pre-processing your data with StandardScaler or MinMaxScaler.\n",
            "  ConvergenceWarning,\n",
            "/usr/local/lib/python3.7/dist-packages/sklearn/svm/_base.py:289: ConvergenceWarning: Solver terminated early (max_iter=100).  Consider pre-processing your data with StandardScaler or MinMaxScaler.\n",
            "  ConvergenceWarning,\n",
            "/usr/local/lib/python3.7/dist-packages/sklearn/svm/_base.py:289: ConvergenceWarning: Solver terminated early (max_iter=100).  Consider pre-processing your data with StandardScaler or MinMaxScaler.\n",
            "  ConvergenceWarning,\n",
            "/usr/local/lib/python3.7/dist-packages/sklearn/svm/_base.py:289: ConvergenceWarning: Solver terminated early (max_iter=100).  Consider pre-processing your data with StandardScaler or MinMaxScaler.\n",
            "  ConvergenceWarning,\n",
            "/usr/local/lib/python3.7/dist-packages/sklearn/svm/_base.py:289: ConvergenceWarning: Solver terminated early (max_iter=100).  Consider pre-processing your data with StandardScaler or MinMaxScaler.\n",
            "  ConvergenceWarning,\n",
            "/usr/local/lib/python3.7/dist-packages/sklearn/svm/_base.py:289: ConvergenceWarning: Solver terminated early (max_iter=100).  Consider pre-processing your data with StandardScaler or MinMaxScaler.\n",
            "  ConvergenceWarning,\n",
            "/usr/local/lib/python3.7/dist-packages/sklearn/svm/_base.py:289: ConvergenceWarning: Solver terminated early (max_iter=100).  Consider pre-processing your data with StandardScaler or MinMaxScaler.\n",
            "  ConvergenceWarning,\n"
          ]
        }
      ],
      "source": [
        "cross_val_score,\n",
        "result_KFold=cross_val_score(SVC_model,x,y,cv=KFoldVal)\n",
        "print(result_KFold)"
      ]
    },
    {
      "cell_type": "code",
      "execution_count": null,
      "metadata": {
        "colab": {
          "base_uri": "https://localhost:8080/"
        },
        "id": "ZsTfSQSCznyZ",
        "outputId": "4487eb9f-e0d4-4562-e985-e3aeb2895fcb"
      },
      "outputs": [
        {
          "name": "stdout",
          "output_type": "stream",
          "text": [
            "0.5236014538558786\n"
          ]
        }
      ],
      "source": [
        "KFold_Score=np.mean(result_KFold)\n",
        "print(KFold_Score)"
      ]
    },
    {
      "cell_type": "markdown",
      "metadata": {
        "id": "xMNoOcte0HHx"
      },
      "source": [
        "## Repeated Random SubSampling with SVC classifier"
      ]
    },
    {
      "cell_type": "code",
      "execution_count": null,
      "metadata": {
        "colab": {
          "base_uri": "https://localhost:8080/"
        },
        "id": "LryncJ8q0Gaa",
        "outputId": "0d3477d3-8d6a-4154-e045-0ba43dab646f"
      },
      "outputs": [
        {
          "name": "stderr",
          "output_type": "stream",
          "text": [
            "/usr/local/lib/python3.7/dist-packages/sklearn/svm/_base.py:289: ConvergenceWarning: Solver terminated early (max_iter=100).  Consider pre-processing your data with StandardScaler or MinMaxScaler.\n",
            "  ConvergenceWarning,\n",
            "/usr/local/lib/python3.7/dist-packages/sklearn/svm/_base.py:289: ConvergenceWarning: Solver terminated early (max_iter=100).  Consider pre-processing your data with StandardScaler or MinMaxScaler.\n",
            "  ConvergenceWarning,\n",
            "/usr/local/lib/python3.7/dist-packages/sklearn/svm/_base.py:289: ConvergenceWarning: Solver terminated early (max_iter=100).  Consider pre-processing your data with StandardScaler or MinMaxScaler.\n",
            "  ConvergenceWarning,\n",
            "/usr/local/lib/python3.7/dist-packages/sklearn/svm/_base.py:289: ConvergenceWarning: Solver terminated early (max_iter=100).  Consider pre-processing your data with StandardScaler or MinMaxScaler.\n",
            "  ConvergenceWarning,\n",
            "/usr/local/lib/python3.7/dist-packages/sklearn/svm/_base.py:289: ConvergenceWarning: Solver terminated early (max_iter=100).  Consider pre-processing your data with StandardScaler or MinMaxScaler.\n",
            "  ConvergenceWarning,\n",
            "/usr/local/lib/python3.7/dist-packages/sklearn/svm/_base.py:289: ConvergenceWarning: Solver terminated early (max_iter=100).  Consider pre-processing your data with StandardScaler or MinMaxScaler.\n",
            "  ConvergenceWarning,\n",
            "/usr/local/lib/python3.7/dist-packages/sklearn/svm/_base.py:289: ConvergenceWarning: Solver terminated early (max_iter=100).  Consider pre-processing your data with StandardScaler or MinMaxScaler.\n",
            "  ConvergenceWarning,\n",
            "/usr/local/lib/python3.7/dist-packages/sklearn/svm/_base.py:289: ConvergenceWarning: Solver terminated early (max_iter=100).  Consider pre-processing your data with StandardScaler or MinMaxScaler.\n",
            "  ConvergenceWarning,\n",
            "/usr/local/lib/python3.7/dist-packages/sklearn/svm/_base.py:289: ConvergenceWarning: Solver terminated early (max_iter=100).  Consider pre-processing your data with StandardScaler or MinMaxScaler.\n",
            "  ConvergenceWarning,\n",
            "/usr/local/lib/python3.7/dist-packages/sklearn/svm/_base.py:289: ConvergenceWarning: Solver terminated early (max_iter=100).  Consider pre-processing your data with StandardScaler or MinMaxScaler.\n",
            "  ConvergenceWarning,\n"
          ]
        }
      ],
      "source": [
        "from sklearn.model_selection import ShuffleSplit, cross_val_score\n",
        "SVC_model=SVC(kernel='linear', max_iter=100, random_state=42)\n",
        "ssplit=ShuffleSplit(n_splits=10, test_size=.15)\n",
        "result_ssplit=cross_val_score(SVC_model,x,y,cv=ssplit)"
      ]
    },
    {
      "cell_type": "code",
      "execution_count": null,
      "metadata": {
        "colab": {
          "base_uri": "https://localhost:8080/"
        },
        "id": "XcsrLkd10pJm",
        "outputId": "37b4b488-2565-44aa-fcaa-c41ccae43b48"
      },
      "outputs": [
        {
          "data": {
            "text/plain": [
              "array([0.64497041, 0.66863905, 0.61538462, 0.56213018, 0.62721893,\n",
              "       0.36686391, 0.21893491, 0.65088757, 0.60946746, 0.62130178])"
            ]
          },
          "execution_count": 14,
          "metadata": {},
          "output_type": "execute_result"
        }
      ],
      "source": [
        "result_ssplit"
      ]
    },
    {
      "cell_type": "code",
      "execution_count": null,
      "metadata": {
        "colab": {
          "base_uri": "https://localhost:8080/"
        },
        "id": "pGE3Pnfb0rV4",
        "outputId": "dcfbb28f-9390-4127-a30d-ea872c98566a"
      },
      "outputs": [
        {
          "name": "stdout",
          "output_type": "stream",
          "text": [
            "0.5585798816568047\n"
          ]
        }
      ],
      "source": [
        "ssplit_score=np.mean(result_ssplit)\n",
        "print(ssplit_score)"
      ]
    },
    {
      "cell_type": "markdown",
      "metadata": {
        "id": "dyW063V60ypo"
      },
      "source": [
        "## Randomized Search with Logistic Regressor"
      ]
    },
    {
      "cell_type": "code",
      "execution_count": null,
      "metadata": {
        "id": "i_FaBOqg4iiv"
      },
      "outputs": [],
      "source": [
        "from sklearn.model_selection import train_test_split\n",
        "x_train,x_test,y_train,y_test=train_test_split(x,y,test_size=.15, random_state=42)"
      ]
    },
    {
      "cell_type": "code",
      "execution_count": null,
      "metadata": {
        "id": "XN5g2t7y2V9n"
      },
      "outputs": [],
      "source": [
        "from sklearn.model_selection import RandomizedSearchCV\n",
        "param={'C':[0,1,1,10,100], 'solver':['liblinear', 'saga', 'lbfgs'], 'max_iter':[100,1000,10000], 'random_state':[10, 50, 100]}"
      ]
    },
    {
      "cell_type": "code",
      "execution_count": null,
      "metadata": {
        "id": "xwbhzH3u4kzP"
      },
      "outputs": [],
      "source": [
        "from sklearn.linear_model import LogisticRegression"
      ]
    },
    {
      "cell_type": "code",
      "execution_count": null,
      "metadata": {
        "colab": {
          "base_uri": "https://localhost:8080/"
        },
        "id": "tX6b1Bb64Kz8",
        "outputId": "d4fac758-8ffb-4b15-93fd-95521eb212ee"
      },
      "outputs": [
        {
          "name": "stdout",
          "output_type": "stream",
          "text": [
            "Fitting 5 folds for each of 3 candidates, totalling 15 fits\n",
            "[CV 1/5] END C=0, max_iter=1000, random_state=100, solver=saga;, score=nan total time=   0.0s\n",
            "[CV 2/5] END C=0, max_iter=1000, random_state=100, solver=saga;, score=nan total time=   0.0s\n",
            "[CV 3/5] END C=0, max_iter=1000, random_state=100, solver=saga;, score=nan total time=   0.0s\n",
            "[CV 4/5] END C=0, max_iter=1000, random_state=100, solver=saga;, score=nan total time=   0.0s\n",
            "[CV 5/5] END C=0, max_iter=1000, random_state=100, solver=saga;, score=nan total time=   0.0s\n",
            "[CV 1/5] END C=100, max_iter=100, random_state=10, solver=liblinear;, score=0.807 total time=   0.0s\n",
            "[CV 2/5] END C=100, max_iter=100, random_state=10, solver=liblinear;, score=0.806 total time=   0.0s\n",
            "[CV 3/5] END C=100, max_iter=100, random_state=10, solver=liblinear;, score=0.806 total time=   0.0s\n",
            "[CV 4/5] END C=100, max_iter=100, random_state=10, solver=liblinear;, score=0.806 total time=   0.0s\n",
            "[CV 5/5] END C=100, max_iter=100, random_state=10, solver=liblinear;, score=0.806 total time=   0.0s\n",
            "[CV 1/5] END C=100, max_iter=10000, random_state=10, solver=saga;, score=0.807 total time=   0.9s\n",
            "[CV 2/5] END C=100, max_iter=10000, random_state=10, solver=saga;, score=0.806 total time=   1.0s\n",
            "[CV 3/5] END C=100, max_iter=10000, random_state=10, solver=saga;, score=0.806 total time=   1.7s\n",
            "[CV 4/5] END C=100, max_iter=10000, random_state=10, solver=saga;, score=0.806 total time=   1.8s\n",
            "[CV 5/5] END C=100, max_iter=10000, random_state=10, solver=saga;, score=0.806 total time=   1.7s\n"
          ]
        },
        {
          "name": "stderr",
          "output_type": "stream",
          "text": [
            "/usr/local/lib/python3.7/dist-packages/sklearn/model_selection/_validation.py:372: FitFailedWarning: \n",
            "5 fits failed out of a total of 15.\n",
            "The score on these train-test partitions for these parameters will be set to nan.\n",
            "If these failures are not expected, you can try to debug them by setting error_score='raise'.\n",
            "\n",
            "Below are more details about the failures:\n",
            "--------------------------------------------------------------------------------\n",
            "5 fits failed with the following error:\n",
            "Traceback (most recent call last):\n",
            "  File \"/usr/local/lib/python3.7/dist-packages/sklearn/model_selection/_validation.py\", line 680, in _fit_and_score\n",
            "    estimator.fit(X_train, y_train, **fit_params)\n",
            "  File \"/usr/local/lib/python3.7/dist-packages/sklearn/linear_model/_logistic.py\", line 1614, in fit\n",
            "    for class_, warm_start_coef_ in zip(classes_, warm_start_coef)\n",
            "  File \"/usr/local/lib/python3.7/dist-packages/joblib/parallel.py\", line 1085, in __call__\n",
            "    if self.dispatch_one_batch(iterator):\n",
            "  File \"/usr/local/lib/python3.7/dist-packages/joblib/parallel.py\", line 901, in dispatch_one_batch\n",
            "    self._dispatch(tasks)\n",
            "  File \"/usr/local/lib/python3.7/dist-packages/joblib/parallel.py\", line 819, in _dispatch\n",
            "    job = self._backend.apply_async(batch, callback=cb)\n",
            "  File \"/usr/local/lib/python3.7/dist-packages/joblib/_parallel_backends.py\", line 208, in apply_async\n",
            "    result = ImmediateResult(func)\n",
            "  File \"/usr/local/lib/python3.7/dist-packages/joblib/_parallel_backends.py\", line 597, in __init__\n",
            "    self.results = batch()\n",
            "  File \"/usr/local/lib/python3.7/dist-packages/joblib/parallel.py\", line 289, in __call__\n",
            "    for func, args, kwargs in self.items]\n",
            "  File \"/usr/local/lib/python3.7/dist-packages/joblib/parallel.py\", line 289, in <listcomp>\n",
            "    for func, args, kwargs in self.items]\n",
            "  File \"/usr/local/lib/python3.7/dist-packages/sklearn/utils/fixes.py\", line 216, in __call__\n",
            "    return self.function(*args, **kwargs)\n",
            "  File \"/usr/local/lib/python3.7/dist-packages/sklearn/linear_model/_logistic.py\", line 858, in _logistic_regression_path\n",
            "    alpha = 1.0 / C\n",
            "ZeroDivisionError: float division by zero\n",
            "\n",
            "  warnings.warn(some_fits_failed_message, FitFailedWarning)\n",
            "/usr/local/lib/python3.7/dist-packages/sklearn/model_selection/_search.py:972: UserWarning: One or more of the test scores are non-finite: [       nan 0.80648451 0.80648451]\n",
            "  category=UserWarning,\n"
          ]
        },
        {
          "data": {
            "text/plain": [
              "0.8064845113438045"
            ]
          },
          "execution_count": 19,
          "metadata": {},
          "output_type": "execute_result"
        }
      ],
      "source": [
        "random_model=RandomizedSearchCV(LogisticRegression(), param, verbose=3, n_iter=3)\n",
        "random_model.fit(x_train, y_train)\n",
        "random_model.best_params_\n",
        "random_model.best_score_"
      ]
    },
    {
      "cell_type": "code",
      "execution_count": null,
      "metadata": {
        "colab": {
          "base_uri": "https://localhost:8080/"
        },
        "id": "brRmn2f57MUZ",
        "outputId": "b6a56d6b-1115-4b0a-967f-0e7b720a672b"
      },
      "outputs": [
        {
          "data": {
            "text/plain": [
              "0.8064845113438045"
            ]
          },
          "execution_count": 20,
          "metadata": {},
          "output_type": "execute_result"
        }
      ],
      "source": [
        "random_model.best_params_\n",
        "random_model.best_score_"
      ]
    },
    {
      "cell_type": "markdown",
      "metadata": {
        "id": "iLGoAsDc6n26"
      },
      "source": [
        "## Grid Search with SVC classifier"
      ]
    },
    {
      "cell_type": "code",
      "execution_count": null,
      "metadata": {
        "id": "xvPtnPtw6nGG"
      },
      "outputs": [],
      "source": [
        "from sklearn.model_selection import GridSearchCV\n",
        "param={'C':[0,10,100], 'kernel':['rbf', 'linear', 'lbfgs'], 'gamma':[0.1,0.01, 0.001]}"
      ]
    },
    {
      "cell_type": "code",
      "execution_count": null,
      "metadata": {
        "colab": {
          "background_save": true,
          "base_uri": "https://localhost:8080/"
        },
        "id": "hK2qDP1e6v2S",
        "outputId": "7a1717b2-121c-40c4-a2df-c961815a4462"
      },
      "outputs": [
        {
          "name": "stdout",
          "output_type": "stream",
          "text": [
            "Fitting 2 folds for each of 8 candidates, totalling 16 fits\n",
            "[CV] END ........................C=10, gamma=0.1, kernel=rbf; total time=   0.1s\n",
            "[CV] END ........................C=10, gamma=0.1, kernel=rbf; total time=   0.1s\n"
          ]
        }
      ],
      "source": [
        "grid_model=GridSearchCV(SVC(), param, verbose=2, cv=2)\n",
        "grid_model.fit(x_train, y_train)"
      ]
    },
    {
      "cell_type": "code",
      "execution_count": null,
      "metadata": {
        "id": "3VZmLt0h618C"
      },
      "outputs": [],
      "source": [
        "grid_model.best_params_\n",
        "grid_model.best_score_"
      ]
    },
    {
      "cell_type": "markdown",
      "metadata": {
        "id": "OWGSCxaE2r-h"
      },
      "source": [
        "## Visualizing the results"
      ]
    },
    {
      "cell_type": "code",
      "execution_count": null,
      "metadata": {
        "id": "9eejbjyZ2ttS"
      },
      "outputs": [],
      "source": [
        "from prettytable import PrettyTable\n",
        "myTable=PrettyTable(['Technique used', 'Score'])\n",
        "myTable.add_row(['Stratified K-fold Cross Validation with SVC classifier', result_KFold])\n",
        "myTable.add_row(['Repeated Random SubSampling with SVC classifier', ssplit_score])\n",
        "myTable.add_row(['Randomized Search with Logistic Regressor', random_model.best_score_])\n",
        "myTable.add_row(['Grid Search with SVC classifier', grid_model.best_score_])"
      ]
    }
  ],
  "metadata": {
    "colab": {
      "collapsed_sections": [],
      "provenance": []
    },
    "kernelspec": {
      "display_name": "Python 3",
      "name": "python3"
    },
    "language_info": {
      "name": "python"
    }
  },
  "nbformat": 4,
  "nbformat_minor": 0
}