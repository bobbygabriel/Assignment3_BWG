{
  "cells": [
    {
      "cell_type": "markdown",
      "metadata": {
        "id": "kggsZpmOtdej"
      },
      "source": [
        "## Importing the Libraries"
      ]
    },
    {
      "cell_type": "code",
      "execution_count": null,
      "metadata": {
        "id": "7UzaHJBsrZ3w"
      },
      "outputs": [],
      "source": [
        "import numpy as np\n",
        "import pandas as pd\n",
        "import matplotlib.pyplot as plt"
      ]
    },
    {
      "cell_type": "code",
      "execution_count": null,
      "metadata": {
        "id": "y-8E5T3-tA1b"
      },
      "outputs": [],
      "source": [
        "dataset = pd.read_csv('customer_data.csv')"
      ]
    },
    {
      "cell_type": "markdown",
      "metadata": {
        "id": "9oT1lk0BtgaQ"
      },
      "source": [
        "### Checking for null values"
      ]
    },
    {
      "cell_type": "markdown",
      "metadata": {},
      "source": [
        "- `dataset.head()` shows the first 5 rows of the data set.\n",
        "- `dataset.info()` shows the number of total range, the data type of each column, the number of columns, and if a column has null or non-null entries. "
      ]
    },
    {
      "cell_type": "code",
      "execution_count": null,
      "metadata": {
        "colab": {
          "base_uri": "https://localhost:8080/"
        },
        "id": "FGFEGS1GtHTY",
        "outputId": "eba08af7-a1e8-44e4-ebe9-97da4feed15c"
      },
      "outputs": [],
      "source": [
        "dataset.info()"
      ]
    },
    {
      "cell_type": "code",
      "execution_count": null,
      "metadata": {
        "colab": {
          "base_uri": "https://localhost:8080/",
          "height": 204
        },
        "id": "hD49uhARtIkR",
        "outputId": "2be047cd-96fe-4a7f-b36d-609291d46b92"
      },
      "outputs": [],
      "source": [
        "dataset.head()"
      ]
    },
    {
      "cell_type": "markdown",
      "metadata": {
        "id": "JjEb-Qhitlgh"
      },
      "source": [
        "### We have 1 column that contains null entries, so we will be replacing the null entries with mean\n",
        "\n",
        "Sklearn SimpleImputer was imported so that the null data entries can be imputed, making every entry a non-null entry.\n",
        "- `dataset['fea_2']` was imputed using the mean strategy"
      ]
    },
    {
      "cell_type": "code",
      "execution_count": null,
      "metadata": {
        "id": "G1iendvKtMcf"
      },
      "outputs": [],
      "source": [
        "from sklearn.impute import SimpleImputer\n",
        "imputer = SimpleImputer(strategy = 'mean')"
      ]
    },
    {
      "cell_type": "code",
      "execution_count": null,
      "metadata": {
        "id": "Np-pGs5TxRgX"
      },
      "outputs": [],
      "source": [
        "dataset['fea_2'] = imputer.fit_transform(dataset[['fea_2']])\n"
      ]
    },
    {
      "cell_type": "markdown",
      "metadata": {
        "id": "HNedyGYMyAlK"
      },
      "source": [
        "## Stratified K-fold Cross Validation with SVC classifier"
      ]
    },
    {
      "cell_type": "markdown",
      "metadata": {},
      "source": [
        "Provides train/test indices to split data in train/test sets.\n",
        "\n",
        "This cross-validation object is a variation of KFold that returns stratified folds. The folds are made by preserving the percentage of samples for each class."
      ]
    },
    {
      "cell_type": "code",
      "execution_count": null,
      "metadata": {
        "id": "xI2WaAqpyru9"
      },
      "outputs": [],
      "source": [
        "from sklearn.svm import SVC\n",
        "SVC_model=SVC()"
      ]
    },
    {
      "cell_type": "code",
      "execution_count": null,
      "metadata": {
        "id": "1RU4XWGJyIk4"
      },
      "outputs": [],
      "source": [
        "x=dataset.drop('label', axis=1)\n",
        "y=dataset['label']"
      ]
    },
    {
      "cell_type": "markdown",
      "metadata": {},
      "source": [
        "### SVC parameters used\n",
        "\n",
        "`kernel` {‘linear’, ‘poly’, ‘rbf’, ‘sigmoid’, ‘precomputed’} or callable, default=’rbf’\n",
        "Specifies the kernel type to be used in the algorithm.\n",
        "\n",
        "`max_iter` int, default=-1\n",
        "Hard limit on iterations within solver, or -1 for no limit.\n",
        "\n",
        "`random_state` int, RandomState instance or None, default=None\n",
        "Controls the pseudo random number generation for shuffling the data for probability estimates."
      ]
    },
    {
      "cell_type": "code",
      "execution_count": null,
      "metadata": {
        "id": "KM1wrlTsycbe"
      },
      "outputs": [],
      "source": [
        "from sklearn.model_selection import KFold, cross_val_score\n",
        "SVC_model=SVC(kernel='linear', max_iter=100, random_state=42)\n",
        "KFoldVal=KFold(10)"
      ]
    },
    {
      "cell_type": "code",
      "execution_count": null,
      "metadata": {
        "colab": {
          "base_uri": "https://localhost:8080/"
        },
        "id": "GEM9NOk5znLW",
        "outputId": "4d5b0ac1-a741-4801-c868-0751932a32fd"
      },
      "outputs": [],
      "source": [
        "cross_val_score,\n",
        "result_KFold=cross_val_score(SVC_model,x,y,cv=KFoldVal)\n",
        "print(result_KFold)"
      ]
    },
    {
      "cell_type": "code",
      "execution_count": null,
      "metadata": {
        "colab": {
          "base_uri": "https://localhost:8080/"
        },
        "id": "ZsTfSQSCznyZ",
        "outputId": "4487eb9f-e0d4-4562-e985-e3aeb2895fcb"
      },
      "outputs": [],
      "source": [
        "KFold_Score=np.mean(result_KFold)\n",
        "print(KFold_Score)"
      ]
    },
    {
      "cell_type": "markdown",
      "metadata": {
        "id": "xMNoOcte0HHx"
      },
      "source": [
        "## Repeated Random SubSampling with SVC classifier"
      ]
    },
    {
      "cell_type": "markdown",
      "metadata": {},
      "source": [
        "Repeated Random SubSampling is a random permutation cross-validator\n",
        "\n",
        "Yields indices to split data into training and test sets."
      ]
    },
    {
      "cell_type": "code",
      "execution_count": null,
      "metadata": {
        "colab": {
          "base_uri": "https://localhost:8080/"
        },
        "id": "LryncJ8q0Gaa",
        "outputId": "0d3477d3-8d6a-4154-e045-0ba43dab646f"
      },
      "outputs": [],
      "source": [
        "from sklearn.model_selection import ShuffleSplit, cross_val_score\n",
        "SVC_model=SVC(kernel='linear', max_iter=100, random_state=42)\n",
        "ssplit=ShuffleSplit(n_splits=10, test_size=.15)\n",
        "result_ssplit=cross_val_score(SVC_model,x,y,cv=ssplit)"
      ]
    },
    {
      "cell_type": "code",
      "execution_count": null,
      "metadata": {
        "colab": {
          "base_uri": "https://localhost:8080/"
        },
        "id": "XcsrLkd10pJm",
        "outputId": "37b4b488-2565-44aa-fcaa-c41ccae43b48"
      },
      "outputs": [],
      "source": [
        "result_ssplit"
      ]
    },
    {
      "cell_type": "code",
      "execution_count": null,
      "metadata": {
        "colab": {
          "base_uri": "https://localhost:8080/"
        },
        "id": "pGE3Pnfb0rV4",
        "outputId": "dcfbb28f-9390-4127-a30d-ea872c98566a"
      },
      "outputs": [],
      "source": [
        "ssplit_score=np.mean(result_ssplit)\n",
        "print(ssplit_score)"
      ]
    },
    {
      "cell_type": "markdown",
      "metadata": {
        "id": "dyW063V60ypo"
      },
      "source": [
        "## Randomized Search with Logistic Regressor"
      ]
    },
    {
      "cell_type": "markdown",
      "metadata": {},
      "source": [
        "Randomized search on hyper parameters.\n",
        "\n",
        "In contrast to GridSearchCV, not all parameter values are tried out, but rather a fixed number of parameter settings is sampled from the specified distributions. The number of parameter settings that are tried is given by n_iter."
      ]
    },
    {
      "cell_type": "code",
      "execution_count": null,
      "metadata": {
        "id": "i_FaBOqg4iiv"
      },
      "outputs": [],
      "source": [
        "from sklearn.model_selection import train_test_split\n",
        "x_train,x_test,y_train,y_test=train_test_split(x,y,test_size=.15, random_state=42)"
      ]
    },
    {
      "cell_type": "markdown",
      "metadata": {},
      "source": [
        "### Logistic Regressor parameters used\n",
        "\n",
        "`C` float, default=1.0\n",
        "Inverse of regularization strength; must be a positive float. Like in support vector machines, smaller values specify stronger regularization.\n",
        "\n",
        "`solver` {‘newton-cg’, ‘lbfgs’, ‘liblinear’, ‘sag’, ‘saga’}, default=’lbfgs’\n",
        "Algorithm to use in the optimization problem. Default is ‘lbfgs’.\n",
        "\n",
        "`max_iter` int, default=100\n",
        "Maximum number of iterations taken for the solvers to converge.\n",
        "\n",
        "`random_state` int, RandomState instance, default=None\n",
        "Used when solver == ‘sag’, ‘saga’ or ‘liblinear’ to shuffle the data"
      ]
    },
    {
      "cell_type": "code",
      "execution_count": null,
      "metadata": {
        "id": "XN5g2t7y2V9n"
      },
      "outputs": [],
      "source": [
        "from sklearn.model_selection import RandomizedSearchCV\n",
        "param={'C':[0,1,1,10,100], 'solver':['liblinear', 'saga', 'lbfgs'], 'max_iter':[100,1000,10000], 'random_state':[10, 50, 100]}"
      ]
    },
    {
      "cell_type": "code",
      "execution_count": null,
      "metadata": {
        "id": "xwbhzH3u4kzP"
      },
      "outputs": [],
      "source": [
        "from sklearn.linear_model import LogisticRegression"
      ]
    },
    {
      "cell_type": "code",
      "execution_count": null,
      "metadata": {
        "colab": {
          "base_uri": "https://localhost:8080/"
        },
        "id": "tX6b1Bb64Kz8",
        "outputId": "d4fac758-8ffb-4b15-93fd-95521eb212ee"
      },
      "outputs": [],
      "source": [
        "random_model=RandomizedSearchCV(LogisticRegression(), param, verbose=3, n_iter=3)\n",
        "random_model.fit(x_train, y_train)\n",
        "random_model.best_params_\n",
        "random_model.best_score_"
      ]
    },
    {
      "cell_type": "code",
      "execution_count": null,
      "metadata": {
        "colab": {
          "base_uri": "https://localhost:8080/"
        },
        "id": "brRmn2f57MUZ",
        "outputId": "b6a56d6b-1115-4b0a-967f-0e7b720a672b"
      },
      "outputs": [],
      "source": [
        "random_model.best_params_\n",
        "random_model.best_score_"
      ]
    },
    {
      "cell_type": "markdown",
      "metadata": {
        "id": "iLGoAsDc6n26"
      },
      "source": [
        "## Grid Search with SVC classifier"
      ]
    },
    {
      "cell_type": "markdown",
      "metadata": {},
      "source": [
        "Exhaustive search over specified parameter values for an estimator.\n",
        "\n",
        "The parameters of the estimator used to apply these methods are optimized by cross-validated grid-search over a parameter grid."
      ]
    },
    {
      "cell_type": "markdown",
      "metadata": {},
      "source": [
        "### SVC parameters used\n",
        "\n",
        "`kernel` {‘linear’, ‘poly’, ‘rbf’, ‘sigmoid’, ‘precomputed’} or callable, default=’rbf’\n",
        "Specifies the kernel type to be used in the algorithm.\n",
        "\n",
        "`C` float, default=1.0\n",
        "Regularization parameter. The strength of the regularization is inversely proportional to C. Must be strictly positive. The penalty is a squared l2 penalty.\n",
        "\n",
        "`gamma` {‘scale’, ‘auto’} or float, default=’scale’\n",
        "Kernel coefficient for ‘rbf’, ‘poly’ and ‘sigmoid`"
      ]
    },
    {
      "cell_type": "code",
      "execution_count": null,
      "metadata": {
        "id": "xvPtnPtw6nGG"
      },
      "outputs": [],
      "source": [
        "from sklearn.model_selection import GridSearchCV\n",
        "param={'C':[1,10,100], 'kernel':['rbf', 'linear', 'lbfgs'], 'gamma':[0.1, 0.01, 0.001]}"
      ]
    },
    {
      "cell_type": "code",
      "execution_count": null,
      "metadata": {
        "colab": {
          "background_save": true,
          "base_uri": "https://localhost:8080/"
        },
        "id": "hK2qDP1e6v2S",
        "outputId": "7a1717b2-121c-40c4-a2df-c961815a4462"
      },
      "outputs": [],
      "source": [
        "grid_model=GridSearchCV(SVC(), param, verbose=2, cv=2)\n",
        "grid_model.fit(x_train, y_train)"
      ]
    },
    {
      "cell_type": "code",
      "execution_count": null,
      "metadata": {
        "id": "3VZmLt0h618C"
      },
      "outputs": [],
      "source": [
        "grid_model.best_params_\n",
        "grid_model.best_score_"
      ]
    },
    {
      "cell_type": "markdown",
      "metadata": {
        "id": "OWGSCxaE2r-h"
      },
      "source": [
        "## Visualizing the results"
      ]
    },
    {
      "cell_type": "code",
      "execution_count": null,
      "metadata": {
        "id": "9eejbjyZ2ttS"
      },
      "outputs": [],
      "source": [
        "from prettytable import PrettyTable\n",
        "myTable=PrettyTable(['Technique used', 'Score'])\n",
        "myTable.add_row(['Stratified K-fold Cross Validation with SVC classifier', result_KFold])\n",
        "myTable.add_row(['Repeated Random SubSampling with SVC classifier', ssplit_score])\n",
        "myTable.add_row(['Randomized Search with Logistic Regressor', random_model.best_score_])\n",
        "myTable.add_row(['Grid Search with SVC classifier', grid_model.best_score_])"
      ]
    }
  ],
  "metadata": {
    "colab": {
      "collapsed_sections": [],
      "provenance": []
    },
    "kernelspec": {
      "display_name": "Python 3.9.12 ('base')",
      "language": "python",
      "name": "python3"
    },
    "language_info": {
      "codemirror_mode": {
        "name": "ipython",
        "version": 3
      },
      "file_extension": ".py",
      "mimetype": "text/x-python",
      "name": "python",
      "nbconvert_exporter": "python",
      "pygments_lexer": "ipython3",
      "version": "3.9.12"
    },
    "vscode": {
      "interpreter": {
        "hash": "b0fe95d0b6d0371c9b53841164143507da0ed593a90bb0a5c5a2a010d08c0843"
      }
    }
  },
  "nbformat": 4,
  "nbformat_minor": 0
}
